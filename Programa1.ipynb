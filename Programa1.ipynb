{
  "nbformat": 4,
  "nbformat_minor": 0,
  "metadata": {
    "colab": {
      "provenance": []
    },
    "kernelspec": {
      "name": "python3",
      "display_name": "Python 3"
    },
    "language_info": {
      "name": "python"
    }
  },
  "cells": [
    {
      "cell_type": "markdown",
      "source": [
        "#Programa 1\n"
      ],
      "metadata": {
        "id": "pLkmoVk3nQK1"
      }
    },
    {
      "cell_type": "code",
      "source": [],
      "metadata": {
        "id": "3g7fIqFzLXsa"
      },
      "execution_count": null,
      "outputs": []
    },
    {
      "cell_type": "code",
      "execution_count": null,
      "metadata": {
        "id": "hCpBG4rpnOyU"
      },
      "outputs": [],
      "source": [
        "import math as mt #para usaara factorial\n",
        "from itertools import combinations\n",
        "from itertools import combinations_with_replacement\n",
        "import numpy as np"
      ]
    },
    {
      "cell_type": "code",
      "source": [
        "nombres = [\"Oscar\", \"Paco\", \"Paty\", \"Laura\", \"Ruben\",\"Luis\",\"Lucy\",\"Alberrto\",\"Juan\",\"Dany\"]\n",
        "n= len (nombres)\n",
        "r = 2 #¿como agrupar?\n",
        "\n",
        "Cn= mt.factorial (n)/ (mt.factorial(r) * mt.factorial(n-r))\n",
        "print (\"Existen \", Cn,\" posibles combinaciones sin repeticion total de \",n,\" nombres \",\" en grupos de \",r,\" en \", r)\n",
        "print (\"Aqui las convinaciones\")\n",
        "combinaciones_nombres = list(combinations(nombres,r))\n",
        "# Imprime las combinaciones\n",
        "for combinacion in combinaciones_nombres:\n",
        "  print(combinacion)"
      ],
      "metadata": {
        "colab": {
          "base_uri": "https://localhost:8080/"
        },
        "id": "SIOeG-tloKCJ",
        "outputId": "57261585-126a-473e-bb65-3c73b39e5857"
      },
      "execution_count": null,
      "outputs": [
        {
          "output_type": "stream",
          "name": "stdout",
          "text": [
            "Existen  45.0  posibles combinaciones sin repeticion total de  10  nombres   en grupos de  2  en  2\n",
            "Aqui las convinaciones\n",
            "('Oscar', 'Paco')\n",
            "('Oscar', 'Paty')\n",
            "('Oscar', 'Laura')\n",
            "('Oscar', 'Ruben')\n",
            "('Oscar', 'Luis')\n",
            "('Oscar', 'Lucy')\n",
            "('Oscar', 'Alberrto')\n",
            "('Oscar', 'Juan')\n",
            "('Oscar', 'Dany')\n",
            "('Paco', 'Paty')\n",
            "('Paco', 'Laura')\n",
            "('Paco', 'Ruben')\n",
            "('Paco', 'Luis')\n",
            "('Paco', 'Lucy')\n",
            "('Paco', 'Alberrto')\n",
            "('Paco', 'Juan')\n",
            "('Paco', 'Dany')\n",
            "('Paty', 'Laura')\n",
            "('Paty', 'Ruben')\n",
            "('Paty', 'Luis')\n",
            "('Paty', 'Lucy')\n",
            "('Paty', 'Alberrto')\n",
            "('Paty', 'Juan')\n",
            "('Paty', 'Dany')\n",
            "('Laura', 'Ruben')\n",
            "('Laura', 'Luis')\n",
            "('Laura', 'Lucy')\n",
            "('Laura', 'Alberrto')\n",
            "('Laura', 'Juan')\n",
            "('Laura', 'Dany')\n",
            "('Ruben', 'Luis')\n",
            "('Ruben', 'Lucy')\n",
            "('Ruben', 'Alberrto')\n",
            "('Ruben', 'Juan')\n",
            "('Ruben', 'Dany')\n",
            "('Luis', 'Lucy')\n",
            "('Luis', 'Alberrto')\n",
            "('Luis', 'Juan')\n",
            "('Luis', 'Dany')\n",
            "('Lucy', 'Alberrto')\n",
            "('Lucy', 'Juan')\n",
            "('Lucy', 'Dany')\n",
            "('Alberrto', 'Juan')\n",
            "('Alberrto', 'Dany')\n",
            "('Juan', 'Dany')\n"
          ]
        }
      ]
    },
    {
      "cell_type": "markdown",
      "source": [
        "# pag 28: Caracteres Alfabeticos y digitos"
      ],
      "metadata": {
        "id": "0Jt8OcL3qExB"
      }
    },
    {
      "cell_type": "code",
      "source": [
        "caracteres = [\"a\",\"b\",\"c\",\"d\",\"e\",\"f\",\"1\",\"2\",\"3\",\"4\",\"5\"]\n",
        "n = len(caracteres)\n",
        "r =10 #como agrupar\n",
        "Cn = mt.factorial (n) / (mt.factorial (r) *  mt.factorial(n-r))\n",
        "print(\"Eisten \",Cn,\" posibles combinaciones sin repetiion del total de \",n,\" caracteres \",\" en grupos de \",r,\" en \",r)\n",
        "print (\"aqui las combinaciones\")\n",
        "combinaciones_caracteres =list(combinations(caracteres,r))\n",
        "#imprime las combinaciones\n",
        "for combinacion in combinaciones_caracteres:\n",
        "    print (combinacion)"
      ],
      "metadata": {
        "colab": {
          "base_uri": "https://localhost:8080/"
        },
        "id": "K0AL-d4SqLAM",
        "outputId": "79d3f421-c825-4e71-c874-bb90a741a7f5"
      },
      "execution_count": null,
      "outputs": [
        {
          "output_type": "stream",
          "name": "stdout",
          "text": [
            "Eisten  11.0  posibles combinaciones sin repetiion del total de  11  caracteres   en grupos de  10  en  10\n",
            "aqui las combinaciones\n",
            "('a', 'b', 'c', 'd', 'e', 'f', '1', '2', '3', '4')\n",
            "('a', 'b', 'c', 'd', 'e', 'f', '1', '2', '3', '5')\n",
            "('a', 'b', 'c', 'd', 'e', 'f', '1', '2', '4', '5')\n",
            "('a', 'b', 'c', 'd', 'e', 'f', '1', '3', '4', '5')\n",
            "('a', 'b', 'c', 'd', 'e', 'f', '2', '3', '4', '5')\n",
            "('a', 'b', 'c', 'd', 'e', '1', '2', '3', '4', '5')\n",
            "('a', 'b', 'c', 'd', 'f', '1', '2', '3', '4', '5')\n",
            "('a', 'b', 'c', 'e', 'f', '1', '2', '3', '4', '5')\n",
            "('a', 'b', 'd', 'e', 'f', '1', '2', '3', '4', '5')\n",
            "('a', 'c', 'd', 'e', 'f', '1', '2', '3', '4', '5')\n",
            "('b', 'c', 'd', 'e', 'f', '1', '2', '3', '4', '5')\n"
          ]
        }
      ]
    },
    {
      "cell_type": "code",
      "source": [
        "dado = [1 ,2 ,3 ,4 ,5 ,6 ]\n",
        "n =len(dado)\n",
        "r = 2 #¿como agrupar?, de dos porque hay 2 dados\n",
        "CnR = mt.factorial(n+r-1) / (mt.factorial (r) * mt.factorial (n+r-1))\n",
        "print (\"Existen \",CnR, \" posible de combinaciones con repeticion del total de \",n, \" caracteres \",\" en grupo de \", r, \" en \",r )\n",
        "print (\"aqui las combinaciones\")\n",
        "#Definir el conjuno de elementos\n",
        "elementos=[1,2 ,3 ,4 ,5 ,6 ]\n",
        "#numero de elementos a elegir en cada combinacion\n",
        "r=2\n",
        "#calcular las combinaciones con repeticion\n",
        "combinacioes_dados = list(combinations_with_replacement(dado,r))\n",
        "#imprimir la combinacion\n",
        "for combinacion in combinacioes_dados:\n",
        "    print (combinacion)"
      ],
      "metadata": {
        "colab": {
          "base_uri": "https://localhost:8080/"
        },
        "id": "K2GlVMUssPcX",
        "outputId": "aafd4dca-6e85-4cbf-c762-78e9df384b15"
      },
      "execution_count": null,
      "outputs": [
        {
          "output_type": "stream",
          "name": "stdout",
          "text": [
            "Existen  0.5  posible de combinaciones con repeticion del total de  6  caracteres   en grupo de  2  en  2\n",
            "aqui las combinaciones\n",
            "(1, 1)\n",
            "(1, 2)\n",
            "(1, 3)\n",
            "(1, 4)\n",
            "(1, 5)\n",
            "(1, 6)\n",
            "(2, 2)\n",
            "(2, 3)\n",
            "(2, 4)\n",
            "(2, 5)\n",
            "(2, 6)\n",
            "(3, 3)\n",
            "(3, 4)\n",
            "(3, 5)\n",
            "(3, 6)\n",
            "(4, 4)\n",
            "(4, 5)\n",
            "(4, 6)\n",
            "(5, 5)\n",
            "(5, 6)\n",
            "(6, 6)\n"
          ]
        }
      ]
    }
  ]
}