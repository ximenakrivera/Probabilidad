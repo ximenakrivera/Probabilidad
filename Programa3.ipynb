{
  "nbformat": 4,
  "nbformat_minor": 0,
  "metadata": {
    "colab": {
      "provenance": []
    },
    "kernelspec": {
      "name": "python3",
      "display_name": "Python 3"
    },
    "language_info": {
      "name": "python"
    }
  },
  "cells": [
    {
      "cell_type": "markdown",
      "source": [
        "#Programa 3"
      ],
      "metadata": {
        "id": "dSkbjRuqR9kT"
      }
    },
    {
      "cell_type": "code",
      "execution_count": 1,
      "metadata": {
        "id": "Qm4hsrMwyG7B"
      },
      "outputs": [],
      "source": [
        "import math as mt\n",
        "from itertools import permutations\n",
        "from itertools import product\n",
        "import numpy as np"
      ]
    },
    {
      "cell_type": "code",
      "source": [
        "a = 10 #asistentes disponibles\n",
        "q = 4 #numero de preguuntas\n",
        "num_permutations = mt.factorial(a)/ mt.factorial(a-q)\n",
        "print (\"Numero de formas para elegir los asistentes para evaluar\", num_permutations)"
      ],
      "metadata": {
        "colab": {
          "base_uri": "https://localhost:8080/"
        },
        "id": "dGU-Q-fXymbg",
        "outputId": "b2c32646-fb71-400d-e96d-186e4a41c890"
      },
      "execution_count": 2,
      "outputs": [
        {
          "output_type": "stream",
          "name": "stdout",
          "text": [
            "Numero de formas para elegir los asistentes para evaluar 5040.0\n"
          ]
        }
      ]
    }
  ]
}