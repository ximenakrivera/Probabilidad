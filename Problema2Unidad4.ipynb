{
  "nbformat": 4,
  "nbformat_minor": 0,
  "metadata": {
    "colab": {
      "provenance": []
    },
    "kernelspec": {
      "name": "python3",
      "display_name": "Python 3"
    },
    "language_info": {
      "name": "python"
    }
  },
  "cells": [
    {
      "cell_type": "code",
      "execution_count": 6,
      "metadata": {
        "colab": {
          "base_uri": "https://localhost:8080/",
          "height": 211
        },
        "id": "CtK3yz8sGtKz",
        "outputId": "35123b1e-3cc3-4283-e97b-8d54664b26e4"
      },
      "outputs": [
        {
          "output_type": "error",
          "ename": "NameError",
          "evalue": "name 'binom' is not defined",
          "traceback": [
            "\u001b[0;31m---------------------------------------------------------------------------\u001b[0m",
            "\u001b[0;31mNameError\u001b[0m                                 Traceback (most recent call last)",
            "\u001b[0;32m<ipython-input-6-e10fcaff623a>\u001b[0m in \u001b[0;36m<cell line: 13>\u001b[0;34m()\u001b[0m\n\u001b[1;32m     11\u001b[0m \u001b[0mprobabilidad_4\u001b[0m\u001b[0;34m=\u001b[0m\u001b[0;36m4\u001b[0m\u001b[0;34m\u001b[0m\u001b[0;34m\u001b[0m\u001b[0m\n\u001b[1;32m     12\u001b[0m \u001b[0;34m\u001b[0m\u001b[0m\n\u001b[0;32m---> 13\u001b[0;31m \u001b[0mp1\u001b[0m\u001b[0;34m=\u001b[0m\u001b[0mbinom\u001b[0m\u001b[0;34m.\u001b[0m\u001b[0mpmf\u001b[0m\u001b[0;34m(\u001b[0m\u001b[0mprobabilidad_0\u001b[0m\u001b[0;34m,\u001b[0m \u001b[0mmotores\u001b[0m\u001b[0;34m,\u001b[0m \u001b[0mno_satisface\u001b[0m\u001b[0;34m)\u001b[0m\u001b[0;34m\u001b[0m\u001b[0;34m\u001b[0m\u001b[0m\n\u001b[0m\u001b[1;32m     14\u001b[0m \u001b[0mp2\u001b[0m\u001b[0;34m=\u001b[0m\u001b[0mbinom\u001b[0m\u001b[0;34m.\u001b[0m\u001b[0mpmf\u001b[0m\u001b[0;34m(\u001b[0m\u001b[0mprobabilidad_3\u001b[0m\u001b[0;34m,\u001b[0m \u001b[0mmotores\u001b[0m\u001b[0;34m,\u001b[0m \u001b[0mno_satisface\u001b[0m\u001b[0;34m)\u001b[0m\u001b[0;34m\u001b[0m\u001b[0;34m\u001b[0m\u001b[0m\n\u001b[1;32m     15\u001b[0m \u001b[0mp3\u001b[0m\u001b[0;34m=\u001b[0m\u001b[0mbinom\u001b[0m\u001b[0;34m.\u001b[0m\u001b[0mpmf\u001b[0m\u001b[0;34m(\u001b[0m\u001b[0mprobabilidad_4\u001b[0m\u001b[0;34m,\u001b[0m \u001b[0mmotores\u001b[0m\u001b[0;34m,\u001b[0m \u001b[0mno_satisface\u001b[0m\u001b[0;34m)\u001b[0m\u001b[0;34m\u001b[0m\u001b[0;34m\u001b[0m\u001b[0m\n",
            "\u001b[0;31mNameError\u001b[0m: name 'binom' is not defined"
          ]
        }
      ],
      "source": [
        "##EJERCICIO 2\n",
        "\n",
        "\n",
        "#Se emplea la  dsitribucion binomial aqui,\n",
        "#porque se pretende calcular si un evento es exitoso o no en una determinada cantidad de intentos.\n",
        "\n",
        "NoSatisf=0.001\n",
        "Motores=1000\n",
        "Prob_0=0\n",
        "prob_3=3\n",
        "prob_4=4\n",
        "\n",
        "p1=binom.pmf(Prob_0, Motores, NoSatisf)\n",
        "p2=binom.pmf(prob_3, Motores, NoSatisf)\n",
        "p3=binom.pmf(prob_4, Motores, NoSatisf)\n",
        "\n",
        "print(\"probabilidad de que no haya ningun motor defecutuoso: \",p1)\n",
        "print(\"probabilidad de que haya 3 motores defectuosos: \",p2)\n",
        "print(\"probabilidad de que haya 4 motores defectuosos: \",p3)"
      ]
    }
  ]
}