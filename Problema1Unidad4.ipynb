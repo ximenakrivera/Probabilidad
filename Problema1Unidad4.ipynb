{
  "nbformat": 4,
  "nbformat_minor": 0,
  "metadata": {
    "colab": {
      "provenance": []
    },
    "kernelspec": {
      "name": "python3",
      "display_name": "Python 3"
    },
    "language_info": {
      "name": "python"
    }
  },
  "cells": [
    {
      "cell_type": "code",
      "execution_count": 5,
      "metadata": {
        "colab": {
          "base_uri": "https://localhost:8080/"
        },
        "id": "GeHxGybsDG8Q",
        "outputId": "08dbb44a-a571-4f38-af56-5f4799306b6a"
      },
      "outputs": [
        {
          "output_type": "stream",
          "name": "stdout",
          "text": [
            "Probabilidad de que sean 2 ingresos:  0.08422433748856832\n",
            "probabilidad de que sean mas de 10 ingresos:  0.013695268598382881\n",
            "Es posible que san mayor que 10?,  No\n"
          ]
        }
      ],
      "source": [
        "##EJERCICIO 1\n",
        "\n",
        "\n",
        "from scipy.stats import poisson\n",
        "from scipy.stats import binom\n",
        "\n",
        "#En este problema se utiliza la distribución de Poisson,\n",
        "#ya que no se trata de calcular la probabilidad de éxito o fracaso de un evento específico,\n",
        "#sino de analizar la cantidad de personas que ingresan a un hospital.\n",
        "PersonasIngres=0\n",
        "\n",
        "Media=5\n",
        "\n",
        "ing2=2\n",
        "Masde10Ing=10\n",
        "\n",
        "probde2=poisson.pmf(ing2, Media)\n",
        "probde10=1-poisson.cdf(Masde10Ing, Media)\n",
        "print(\"Probabilidad de que sean 2 ingresos: \", probde2)\n",
        "print(\"probabilidad de que sean mas de 10 ingresos: \", probde10)\n",
        "if(probde10>0.5):\n",
        "    mayor_10=\"Si\"\n",
        "\n",
        "else:\n",
        "\n",
        "    mayor_10=\"No\"\n",
        "\n",
        "print(\"Es posible que san mayor que 10?, \", mayor_10)\n",
        "\n",
        "#Al realizar el cálculo de P(X>10) nos indicará si es probable que el número de ingresos sea mayor de 10. }\n",
        "#En una distribución de Poisson con una media de 5,\n",
        "#la probabilidad de que el número de eventos supere ampliamente la media suele ser baja,\n",
        "# ya que la distribución de Poisson se concentra alrededor de su valor medio."
      ]
    }
  ]
}