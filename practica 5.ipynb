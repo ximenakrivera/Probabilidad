{
  "nbformat": 4,
  "nbformat_minor": 0,
  "metadata": {
    "colab": {
      "provenance": []
    },
    "kernelspec": {
      "name": "python3",
      "display_name": "Python 3"
    },
    "language_info": {
      "name": "python"
    }
  },
  "cells": [
    {
      "cell_type": "markdown",
      "source": [
        "##Ejemplo 1 Registro de calificaciones de 12 alumnos.\n",
        "-En este ejemplo generamos una lista que contiene las calificaciones de un grupo de 12 alumnos\n",
        "-Con esta lista de valores se pretende determinar las Medidas de tendencia central, es decir la media, mediana y moda"
      ],
      "metadata": {
        "id": "L9Uz6Er2MhoO"
      }
    },
    {
      "cell_type": "code",
      "source": [
        "from statistics import *"
      ],
      "metadata": {
        "id": "aQQAnHoZMjrY"
      },
      "execution_count": 1,
      "outputs": []
    },
    {
      "cell_type": "markdown",
      "source": [
        "##Media"
      ],
      "metadata": {
        "id": "28joSmmwTUEi"
      }
    },
    {
      "cell_type": "code",
      "source": [
        "#lista de calificaciones del grupo de Probabilidad y Estadistica\n",
        "grupoa = [70, 70, 65, 90, 100, 95, 45, 80, 73, 20, 100, 96]\n",
        "print(grupoa)"
      ],
      "metadata": {
        "colab": {
          "base_uri": "https://localhost:8080/"
        },
        "id": "fThZaKUOOKfW",
        "outputId": "892fa589-6fad-452c-9ce2-4a81f99d9e4d"
      },
      "execution_count": 2,
      "outputs": [
        {
          "output_type": "stream",
          "name": "stdout",
          "text": [
            "[70, 70, 65, 90, 100, 95, 45, 80, 73, 20, 100, 96]\n"
          ]
        }
      ]
    },
    {
      "cell_type": "code",
      "source": [
        "#la funcion type nos devuelve el tipo de dato de la variable\n",
        "type(grupoa)"
      ],
      "metadata": {
        "colab": {
          "base_uri": "https://localhost:8080/"
        },
        "id": "wkNmXKrHOuxH",
        "outputId": "236f1958-02e4-4568-88ba-d793f29cf92d"
      },
      "execution_count": 3,
      "outputs": [
        {
          "output_type": "execute_result",
          "data": {
            "text/plain": [
              "list"
            ]
          },
          "metadata": {},
          "execution_count": 3
        }
      ]
    },
    {
      "cell_type": "code",
      "source": [
        "#sacar la media de las calificaciones con una formula\n",
        "promedio = sum(grupoa) / len(grupoa)\n",
        "print(promedio)"
      ],
      "metadata": {
        "colab": {
          "base_uri": "https://localhost:8080/"
        },
        "id": "5Hz2JWIlPMky",
        "outputId": "276c60d8-ae20-4fea-b8ec-d442b2879caa"
      },
      "execution_count": 4,
      "outputs": [
        {
          "output_type": "stream",
          "name": "stdout",
          "text": [
            "75.33333333333333\n"
          ]
        }
      ]
    },
    {
      "cell_type": "code",
      "source": [
        "#utiilizar la funcion mean que esta en la libreria statisticsp para sacar el promedio\n",
        "prom2 = mean(grupoa)\n",
        "print(prom2)"
      ],
      "metadata": {
        "colab": {
          "base_uri": "https://localhost:8080/"
        },
        "id": "PwV6iJAuPScx",
        "outputId": "7f1f572f-6ce6-4515-9073-32fedb19d3f0"
      },
      "execution_count": 5,
      "outputs": [
        {
          "output_type": "stream",
          "name": "stdout",
          "text": [
            "75.33333333333333\n"
          ]
        }
      ]
    },
    {
      "cell_type": "markdown",
      "source": [
        "##Mediana"
      ],
      "metadata": {
        "id": "JFzBHl2kQH5z"
      }
    },
    {
      "cell_type": "code",
      "source": [
        "#determinar la mediana con la funcion median\n",
        "mediana = median(grupoa)\n",
        "print(mediana)"
      ],
      "metadata": {
        "colab": {
          "base_uri": "https://localhost:8080/"
        },
        "id": "kQ3A6fsrQHh6",
        "outputId": "a2d3a7a1-71f7-4c05-9890-65a88e5d3891"
      },
      "execution_count": 6,
      "outputs": [
        {
          "output_type": "stream",
          "name": "stdout",
          "text": [
            "76.5\n"
          ]
        }
      ]
    },
    {
      "cell_type": "markdown",
      "source": [
        "##Moda"
      ],
      "metadata": {
        "id": "Aa2s9oezQiWL"
      }
    },
    {
      "cell_type": "code",
      "source": [
        "#determinar la moda con la funcion mode\n",
        "import statistics\n",
        "Moda = statistics.mode(grupoa)\n",
        "print(Moda)"
      ],
      "metadata": {
        "colab": {
          "base_uri": "https://localhost:8080/"
        },
        "id": "0e8SB_BnQhkd",
        "outputId": "e1ffbd39-4ff7-43ae-d406-f48b38285ab0"
      },
      "execution_count": 7,
      "outputs": [
        {
          "output_type": "stream",
          "name": "stdout",
          "text": [
            "70\n"
          ]
        }
      ]
    },
    {
      "cell_type": "markdown",
      "source": [
        "##Ejemplo 2 Tiempo de 100 metros de un grupo de 12 alumnos\n",
        "-en este ejemplo generaremos una lista de un grupo de 10 alumnos que corren lo 100 metros y se registran los tiempos de cada uno\n",
        "-con esta lista de valores se pretende determinar las Medidas de tendencia central, es decir la media, mediana y moda"
      ],
      "metadata": {
        "id": "QwHQK4kaRnSF"
      }
    },
    {
      "cell_type": "code",
      "source": [
        "#definamos una variable llamada tiempos100mts de tipo lista que contiene los tiempos que se tardan los alumnos en correr los 100 metros\n",
        "tiempos100mt = [15.10, 17.20, 14.69, 13.27, 22.15, 18.71, 19.15, 20.65, 15.10,17.20]\n",
        "print(tiempos100mt)"
      ],
      "metadata": {
        "colab": {
          "base_uri": "https://localhost:8080/"
        },
        "id": "Y_iRG6zpR7w6",
        "outputId": "9a79a11b-c966-4392-dd3c-ac92534c147f"
      },
      "execution_count": 8,
      "outputs": [
        {
          "output_type": "stream",
          "name": "stdout",
          "text": [
            "[15.1, 17.2, 14.69, 13.27, 22.15, 18.71, 19.15, 20.65, 15.1, 17.2]\n"
          ]
        }
      ]
    },
    {
      "cell_type": "code",
      "source": [
        "print(\"El tiempo promedio de los corredores es=>\", mean(tiempos100mt))"
      ],
      "metadata": {
        "colab": {
          "base_uri": "https://localhost:8080/"
        },
        "id": "WW00lV_zThmf",
        "outputId": "fdd28808-bdfb-40ab-98df-15c3c6705e43"
      },
      "execution_count": 9,
      "outputs": [
        {
          "output_type": "stream",
          "name": "stdout",
          "text": [
            "El tiempo promedio de los corredores es=> 17.322\n"
          ]
        }
      ]
    },
    {
      "cell_type": "markdown",
      "source": [
        "##Media"
      ],
      "metadata": {
        "id": "cjPPF076TeCo"
      }
    },
    {
      "cell_type": "code",
      "source": [
        "#usamos la funcion median para determinar el tiempo promedio de la lista de valores\n",
        "#definimos una variable llamada mediana para calcular de la lista con la fincion median\n",
        "mediana = median(tiempos100mt)\n",
        "print(\"La media de los tiempos de los corredores es =>\",mediana)"
      ],
      "metadata": {
        "colab": {
          "base_uri": "https://localhost:8080/"
        },
        "id": "JqCZU3L1TwQw",
        "outputId": "56ecbdd1-e772-4d2f-e7cb-f2f98bda64fe"
      },
      "execution_count": 10,
      "outputs": [
        {
          "output_type": "stream",
          "name": "stdout",
          "text": [
            "La media de los tiempos de los corredores es => 17.2\n"
          ]
        }
      ]
    },
    {
      "cell_type": "markdown",
      "source": [
        "##Moda"
      ],
      "metadata": {
        "id": "FkPocl2xUhCY"
      }
    },
    {
      "cell_type": "code",
      "source": [
        "#definimos una variable llamada moda para calcular la moda de la lista de funcion mode\n",
        "!pip install scipy\n",
        "from scipy import stats\n",
        "moda = stats.mode(tiempos100mt)\n",
        "print(\"la moda de los tiempos de los corredores es=>\", moda)"
      ],
      "metadata": {
        "colab": {
          "base_uri": "https://localhost:8080/"
        },
        "id": "BV6y56OUUIsK",
        "outputId": "2f8e2120-e9a9-4182-a386-69f0c4c1a046"
      },
      "execution_count": null,
      "outputs": [
        {
          "output_type": "stream",
          "name": "stdout",
          "text": [
            "Requirement already satisfied: scipy in /usr/local/lib/python3.10/dist-packages (1.11.4)\n",
            "Requirement already satisfied: numpy<1.28.0,>=1.21.6 in /usr/local/lib/python3.10/dist-packages (from scipy) (1.25.2)\n"
          ]
        }
      ]
    },
    {
      "cell_type": "markdown",
      "source": [
        "##Funcion multimode para calcular multiples modas (Ejemplo del bimodal)"
      ],
      "metadata": {
        "id": "I228EGClVPpw"
      }
    },
    {
      "cell_type": "code",
      "source": [
        "multimodas = multimode(tiempos100mt)\n",
        "print(\"la moda del los tiempos de los corredores es=>\", multimodas)"
      ],
      "metadata": {
        "id": "DOYnMHszVjwo"
      },
      "execution_count": null,
      "outputs": []
    },
    {
      "cell_type": "markdown",
      "source": [
        "##Ejemplo 3, Histogramas de 2 grupos\n",
        "-En este ejemplo generamos 100 numeros aleatrios reales que representa la produccion diaria de  100 telares(medidas en metros).\n",
        "\n",
        "-Generar otra lista de valores con la produccion de 100 telares para una segunda fabrica\n",
        "\n",
        "-Con esat lista de valores se pretende determinar las medidas de tendencia central , es decir, la media, mediana y moda, la desviacion estandar\n",
        "\n",
        "-Graficar un histograma para cada fabrica\n"
      ],
      "metadata": {
        "id": "2_8iyFjfVv16"
      }
    },
    {
      "cell_type": "code",
      "source": [
        "#libreria para  generar numeros aleatorios\n",
        "import random\n",
        "fabrica1=[]\n",
        "for i in range (100):\n",
        "  numero_aleatorio2 = round(random.uniform(50,100),2)\n",
        "  fabrica1.append(numero_aleatorio2)\n",
        "  print(fabrica1)"
      ],
      "metadata": {
        "id": "Y7SD7Fd2XEvZ"
      },
      "execution_count": null,
      "outputs": []
    },
    {
      "cell_type": "code",
      "source": [
        "import random\n",
        "fabrica2=[]\n",
        "for i in range (100):\n",
        "  numero_aleatorio = round(random.uniform(50,100),2)\n",
        "  fabrica2.append(numero_aleatorio)\n",
        "  print(fabrica2)"
      ],
      "metadata": {
        "id": "6SA8ZA60XLf4"
      },
      "execution_count": null,
      "outputs": []
    },
    {
      "cell_type": "code",
      "source": [
        "#libreria de pyton para graficar valores\n",
        "import matplotlib.pyplot as plt\n",
        "plt.hist(fabrica1)\n",
        "print(\"La produccion diaria de la fabrica 1\")"
      ],
      "metadata": {
        "id": "zl4uevcrX98Y"
      },
      "execution_count": null,
      "outputs": []
    },
    {
      "cell_type": "code",
      "source": [
        "import matplotlib.pyplot as plt\n",
        "plt.hist(fabrica2)\n",
        "print(\"La produccion diaria de la fabrica 2\")"
      ],
      "metadata": {
        "id": "yWROn7CcYm-Q"
      },
      "execution_count": null,
      "outputs": []
    },
    {
      "cell_type": "code",
      "source": [
        "media = mean(fabrica1)\n",
        "mediana = median(fabrica1)\n",
        "from scipy import stats\n",
        "moda = stats.mode(fabrica1)\n",
        "print (\"Valores de la fabrica 1\", )\n",
        "print (\"mediana de la fabrica 1\",mediana )\n",
        "print (\"media de la fabrica 1\", media)\n",
        "print (\"moda de la fabrica 1\", moda)"
      ],
      "metadata": {
        "id": "ay2S1V7gZFRo"
      },
      "execution_count": null,
      "outputs": []
    },
    {
      "cell_type": "code",
      "source": [
        "media = mean(fabrica2)\n",
        "mediana = median(fabrica2)\n",
        "from scipy import stats\n",
        "moda = stats.mode(fabrica2)\n",
        "print (\"Valores de la fabrica 2\", )\n",
        "print (\"mediana de la fabrica 2\",mediana )\n",
        "print (\"media de la fabrica 2\", media)\n",
        "print (\"moda de la fabrica 2\", moda)"
      ],
      "metadata": {
        "id": "NpnGHNLqZVxK"
      },
      "execution_count": null,
      "outputs": []
    },
    {
      "cell_type": "code",
      "source": [
        "print(fabrica1)"
      ],
      "metadata": {
        "id": "bXIKKpTI8ct8"
      },
      "execution_count": null,
      "outputs": []
    },
    {
      "cell_type": "code",
      "source": [
        "plt.boxplot(fabrica1)\n",
        "import matplotlib.pyplot as plt\n",
        "plt.title(\"produccion de la fabrica 1\")\n",
        "plt.ylabel(\"Produccion en metros \")\n",
        "plt.show()"
      ],
      "metadata": {
        "id": "VzibpCNi9Ex3"
      },
      "execution_count": null,
      "outputs": []
    },
    {
      "cell_type": "code",
      "source": [
        "plt.boxplot(fabrica2)\n",
        "import matplotlib.pyplot as plt\n",
        "plt.title(\"produccion de la fabrica 2\")\n",
        "plt.ylabel(\"Produccion en metros \")\n",
        "plt.show()"
      ],
      "metadata": {
        "id": "JZiZloR09r8y"
      },
      "execution_count": null,
      "outputs": []
    },
    {
      "cell_type": "markdown",
      "source": [
        "##Comparamos la produccion de la fabrica 1 y 2 con un diagrama de cajas y bigotes\n"
      ],
      "metadata": {
        "id": "C-DzI4da948b"
      }
    },
    {
      "cell_type": "code",
      "source": [
        "fig, (ax1, ax2) = plt.subplots(nrows=1, ncols=2, figsize=(9,5))\n",
        "ax1.boxplot(fabrica1, vert=True, patch_artist=True)\n",
        "ax1.set_title(\"Produccion de la fabrica 1\")\n",
        "ax2.boxplot(fabrica2, vert=True, patch_artist=True)\n",
        "ax2.set_title(\"Produccion de la fabrica 2\")\n",
        "plt.show()"
      ],
      "metadata": {
        "id": "r0Aqq1xH-GOk"
      },
      "execution_count": null,
      "outputs": []
    },
    {
      "cell_type": "code",
      "source": [
        "print(fabrica2)"
      ],
      "metadata": {
        "id": "CL_4mkJl_o0l"
      },
      "execution_count": null,
      "outputs": []
    },
    {
      "cell_type": "code",
      "source": [
        "fabrica2.append(150)\n",
        "print(fabrica2)"
      ],
      "metadata": {
        "id": "s8-zjZbA_vQL"
      },
      "execution_count": null,
      "outputs": []
    },
    {
      "cell_type": "code",
      "source": [
        "plt.boxplot(fabrica2)\n",
        "import matplotlib.pyplot as plt\n",
        "plt.title(\"produccion de la fabrica 2\")\n",
        "plt.ylabel(\"Produccion en metros \")\n",
        "plt.show()"
      ],
      "metadata": {
        "id": "bDFy4ZyK__cr"
      },
      "execution_count": null,
      "outputs": []
    }
  ]
}